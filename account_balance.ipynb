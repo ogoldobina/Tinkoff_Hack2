{
  "nbformat": 4,
  "nbformat_minor": 0,
  "metadata": {
    "colab": {
      "name": "Untitled3.ipynb",
      "provenance": []
    },
    "kernelspec": {
      "name": "python3",
      "display_name": "Python 3"
    }
  },
  "cells": [
    {
      "cell_type": "code",
      "metadata": {
        "colab_type": "code",
        "id": "NuFnchSfGdd8",
        "colab": {
          "base_uri": "https://localhost:8080/",
          "height": 34
        },
        "outputId": "016764a2-a0df-494b-9b10-4abb03856054"
      },
      "source": [
        "from google.colab import drive\n",
        "drive.mount('/content/drive')"
      ],
      "execution_count": 1,
      "outputs": [
        {
          "output_type": "stream",
          "text": [
            "Mounted at /content/drive\n"
          ],
          "name": "stdout"
        }
      ]
    },
    {
      "cell_type": "code",
      "metadata": {
        "colab_type": "code",
        "id": "o08k0IFOCfM3",
        "colab": {}
      },
      "source": [
        "import numpy as np\n",
        "import pandas as pd\n",
        "from tqdm import tqdm"
      ],
      "execution_count": 2,
      "outputs": []
    },
    {
      "cell_type": "code",
      "metadata": {
        "colab_type": "code",
        "id": "NxRbuZnfCfM8",
        "scrolled": false,
        "colab": {}
      },
      "source": [
        "DATADIR = \"/content/drive/My Drive/data\" # \"./data\"\n",
        "transactions_path = f\"{DATADIR}/avk_hackathon_data_transactions.csv\""
      ],
      "execution_count": 4,
      "outputs": []
    },
    {
      "cell_type": "code",
      "metadata": {
        "id": "OClZRLUDbGr8",
        "colab_type": "code",
        "colab": {}
      },
      "source": [
        "data = pd.read_csv(f\"{DATADIR}/avk_hackathon_data_account_x_balance.csv\")"
      ],
      "execution_count": 5,
      "outputs": []
    },
    {
      "cell_type": "code",
      "metadata": {
        "id": "WRvkH_0wg2KG",
        "colab_type": "code",
        "colab": {
          "base_uri": "https://localhost:8080/",
          "height": 204
        },
        "outputId": "29d7edf3-56e9-4172-c718-2fce3f712bb1"
      },
      "source": [
        "data.head()"
      ],
      "execution_count": 6,
      "outputs": [
        {
          "output_type": "execute_result",
          "data": {
            "text/html": [
              "<div>\n",
              "<style scoped>\n",
              "    .dataframe tbody tr th:only-of-type {\n",
              "        vertical-align: middle;\n",
              "    }\n",
              "\n",
              "    .dataframe tbody tr th {\n",
              "        vertical-align: top;\n",
              "    }\n",
              "\n",
              "    .dataframe thead th {\n",
              "        text-align: right;\n",
              "    }\n",
              "</style>\n",
              "<table border=\"1\" class=\"dataframe\">\n",
              "  <thead>\n",
              "    <tr style=\"text-align: right;\">\n",
              "      <th></th>\n",
              "      <th>party_rk</th>\n",
              "      <th>account_rk</th>\n",
              "      <th>prev_month</th>\n",
              "      <th>cur_month</th>\n",
              "      <th>balance_chng</th>\n",
              "    </tr>\n",
              "  </thead>\n",
              "  <tbody>\n",
              "    <tr>\n",
              "      <th>0</th>\n",
              "      <td>51607</td>\n",
              "      <td>55309</td>\n",
              "      <td>2018-12-31</td>\n",
              "      <td>2019-01-31</td>\n",
              "      <td>15000.0</td>\n",
              "    </tr>\n",
              "    <tr>\n",
              "      <th>1</th>\n",
              "      <td>59074</td>\n",
              "      <td>70471</td>\n",
              "      <td>2018-12-31</td>\n",
              "      <td>2019-01-31</td>\n",
              "      <td>0.0</td>\n",
              "    </tr>\n",
              "    <tr>\n",
              "      <th>2</th>\n",
              "      <td>33941</td>\n",
              "      <td>33065</td>\n",
              "      <td>2018-12-31</td>\n",
              "      <td>2019-01-31</td>\n",
              "      <td>-15000.0</td>\n",
              "    </tr>\n",
              "    <tr>\n",
              "      <th>3</th>\n",
              "      <td>9336</td>\n",
              "      <td>8611</td>\n",
              "      <td>2018-12-31</td>\n",
              "      <td>2019-01-31</td>\n",
              "      <td>-50000.0</td>\n",
              "    </tr>\n",
              "    <tr>\n",
              "      <th>4</th>\n",
              "      <td>13958</td>\n",
              "      <td>8421</td>\n",
              "      <td>2018-12-31</td>\n",
              "      <td>2019-01-31</td>\n",
              "      <td>-20000.0</td>\n",
              "    </tr>\n",
              "  </tbody>\n",
              "</table>\n",
              "</div>"
            ],
            "text/plain": [
              "   party_rk  account_rk  prev_month   cur_month  balance_chng\n",
              "0     51607       55309  2018-12-31  2019-01-31       15000.0\n",
              "1     59074       70471  2018-12-31  2019-01-31           0.0\n",
              "2     33941       33065  2018-12-31  2019-01-31      -15000.0\n",
              "3      9336        8611  2018-12-31  2019-01-31      -50000.0\n",
              "4     13958        8421  2018-12-31  2019-01-31      -20000.0"
            ]
          },
          "metadata": {
            "tags": []
          },
          "execution_count": 6
        }
      ]
    },
    {
      "cell_type": "markdown",
      "metadata": {
        "id": "l9-ePW-p1FAZ",
        "colab_type": "text"
      },
      "source": [
        "Here only clients with >1 year transaction history are used. It can be changed.\n",
        "\n"
      ]
    },
    {
      "cell_type": "code",
      "metadata": {
        "id": "237vZ9hcg7JJ",
        "colab_type": "code",
        "colab": {
          "base_uri": "https://localhost:8080/",
          "height": 34
        },
        "outputId": "7252196a-36d8-4e5e-cee1-6adc751286af"
      },
      "source": [
        " data.groupby('account_rk').cur_month.count().max()"
      ],
      "execution_count": 7,
      "outputs": [
        {
          "output_type": "execute_result",
          "data": {
            "text/plain": [
              "24"
            ]
          },
          "metadata": {
            "tags": []
          },
          "execution_count": 7
        }
      ]
    },
    {
      "cell_type": "code",
      "metadata": {
        "id": "yWcYoBrug677",
        "colab_type": "code",
        "colab": {}
      },
      "source": [
        "accs_long_hist = data.groupby('account_rk').cur_month.count().keys()[data.groupby('account_rk').cur_month.count().max() >= 12][0]"
      ],
      "execution_count": 9,
      "outputs": []
    },
    {
      "cell_type": "markdown",
      "metadata": {
        "id": "-VsFRbUt1e1_",
        "colab_type": "text"
      },
      "source": [
        "To to restore the lower bound of the account balance:\n",
        "1. sort dates by account\n",
        "2. apply cumsum\n",
        "3. shift cumsum values by a constant so that they were >=0 (as balance can't be < 0 on debit card)\n",
        "\n"
      ]
    },
    {
      "cell_type": "code",
      "metadata": {
        "id": "HmUP9zuNoLiC",
        "colab_type": "code",
        "colab": {}
      },
      "source": [
        "#sort dates\n",
        "data_long_hist = data.loc[data['account_rk'].isin(accs_long_hist)].sort_values(['account_rk', 'cur_month'])"
      ],
      "execution_count": 11,
      "outputs": []
    },
    {
      "cell_type": "code",
      "metadata": {
        "id": "YPF7M5fSg2BP",
        "colab_type": "code",
        "colab": {}
      },
      "source": [
        "#apply cumsum\n",
        "data_long_hist['cumsum'] = data_long_hist.groupby('account_rk')['balance_chng'].transform(pd.Series.cumsum)"
      ],
      "execution_count": 12,
      "outputs": []
    },
    {
      "cell_type": "code",
      "metadata": {
        "id": "eVTItr_LpkXr",
        "colab_type": "code",
        "colab": {}
      },
      "source": [
        "#find minimum value of cumsum\n",
        "data_long_hist['min'] = data_long_hist.groupby('account_rk')['cumsum'].transform('min')"
      ],
      "execution_count": 13,
      "outputs": []
    },
    {
      "cell_type": "code",
      "metadata": {
        "id": "m-nnyeXapkIf",
        "colab_type": "code",
        "colab": {}
      },
      "source": [
        "#shift values if balance was < 0\n",
        "data_long_hist['cumsum_shift'] = data_long_hist['cumsum'] - (data_long_hist['min'] < 0) * data_long_hist['min']"
      ],
      "execution_count": 14,
      "outputs": []
    },
    {
      "cell_type": "code",
      "metadata": {
        "id": "RxKlf5mprVaf",
        "colab_type": "code",
        "colab": {
          "base_uri": "https://localhost:8080/",
          "height": 421
        },
        "outputId": "613a58b0-392a-4a1e-bca1-14d24a286cb2"
      },
      "source": [
        "data_long_hist.head(12)"
      ],
      "execution_count": 16,
      "outputs": [
        {
          "output_type": "execute_result",
          "data": {
            "text/html": [
              "<div>\n",
              "<style scoped>\n",
              "    .dataframe tbody tr th:only-of-type {\n",
              "        vertical-align: middle;\n",
              "    }\n",
              "\n",
              "    .dataframe tbody tr th {\n",
              "        vertical-align: top;\n",
              "    }\n",
              "\n",
              "    .dataframe thead th {\n",
              "        text-align: right;\n",
              "    }\n",
              "</style>\n",
              "<table border=\"1\" class=\"dataframe\">\n",
              "  <thead>\n",
              "    <tr style=\"text-align: right;\">\n",
              "      <th></th>\n",
              "      <th>party_rk</th>\n",
              "      <th>account_rk</th>\n",
              "      <th>prev_month</th>\n",
              "      <th>cur_month</th>\n",
              "      <th>balance_chng</th>\n",
              "      <th>cumsum</th>\n",
              "      <th>min</th>\n",
              "      <th>cumsum_shift</th>\n",
              "    </tr>\n",
              "  </thead>\n",
              "  <tbody>\n",
              "    <tr>\n",
              "      <th>503392</th>\n",
              "      <td>71</td>\n",
              "      <td>1</td>\n",
              "      <td>2018-12-31</td>\n",
              "      <td>2019-01-31</td>\n",
              "      <td>-20000.0</td>\n",
              "      <td>-20000.0</td>\n",
              "      <td>-20000.0</td>\n",
              "      <td>0.0</td>\n",
              "    </tr>\n",
              "    <tr>\n",
              "      <th>11469</th>\n",
              "      <td>71</td>\n",
              "      <td>1</td>\n",
              "      <td>2019-01-31</td>\n",
              "      <td>2019-02-28</td>\n",
              "      <td>265000.0</td>\n",
              "      <td>245000.0</td>\n",
              "      <td>-20000.0</td>\n",
              "      <td>265000.0</td>\n",
              "    </tr>\n",
              "    <tr>\n",
              "      <th>499698</th>\n",
              "      <td>71</td>\n",
              "      <td>1</td>\n",
              "      <td>2019-02-28</td>\n",
              "      <td>2019-03-31</td>\n",
              "      <td>-160000.0</td>\n",
              "      <td>85000.0</td>\n",
              "      <td>-20000.0</td>\n",
              "      <td>105000.0</td>\n",
              "    </tr>\n",
              "    <tr>\n",
              "      <th>147932</th>\n",
              "      <td>71</td>\n",
              "      <td>1</td>\n",
              "      <td>2019-03-31</td>\n",
              "      <td>2019-04-30</td>\n",
              "      <td>-70000.0</td>\n",
              "      <td>15000.0</td>\n",
              "      <td>-20000.0</td>\n",
              "      <td>35000.0</td>\n",
              "    </tr>\n",
              "    <tr>\n",
              "      <th>297568</th>\n",
              "      <td>71</td>\n",
              "      <td>1</td>\n",
              "      <td>2019-04-30</td>\n",
              "      <td>2019-05-31</td>\n",
              "      <td>-25000.0</td>\n",
              "      <td>-10000.0</td>\n",
              "      <td>-20000.0</td>\n",
              "      <td>10000.0</td>\n",
              "    </tr>\n",
              "    <tr>\n",
              "      <th>75264</th>\n",
              "      <td>71</td>\n",
              "      <td>1</td>\n",
              "      <td>2019-05-31</td>\n",
              "      <td>2019-06-30</td>\n",
              "      <td>-5000.0</td>\n",
              "      <td>-15000.0</td>\n",
              "      <td>-20000.0</td>\n",
              "      <td>5000.0</td>\n",
              "    </tr>\n",
              "    <tr>\n",
              "      <th>310823</th>\n",
              "      <td>71</td>\n",
              "      <td>1</td>\n",
              "      <td>2019-06-30</td>\n",
              "      <td>2019-07-31</td>\n",
              "      <td>0.0</td>\n",
              "      <td>-15000.0</td>\n",
              "      <td>-20000.0</td>\n",
              "      <td>5000.0</td>\n",
              "    </tr>\n",
              "    <tr>\n",
              "      <th>273860</th>\n",
              "      <td>71</td>\n",
              "      <td>1</td>\n",
              "      <td>2019-07-31</td>\n",
              "      <td>2019-08-31</td>\n",
              "      <td>10000.0</td>\n",
              "      <td>-5000.0</td>\n",
              "      <td>-20000.0</td>\n",
              "      <td>15000.0</td>\n",
              "    </tr>\n",
              "    <tr>\n",
              "      <th>394514</th>\n",
              "      <td>71</td>\n",
              "      <td>1</td>\n",
              "      <td>2019-08-31</td>\n",
              "      <td>2019-09-30</td>\n",
              "      <td>-10000.0</td>\n",
              "      <td>-15000.0</td>\n",
              "      <td>-20000.0</td>\n",
              "      <td>5000.0</td>\n",
              "    </tr>\n",
              "    <tr>\n",
              "      <th>457305</th>\n",
              "      <td>71</td>\n",
              "      <td>1</td>\n",
              "      <td>2019-09-30</td>\n",
              "      <td>2019-10-31</td>\n",
              "      <td>0.0</td>\n",
              "      <td>-15000.0</td>\n",
              "      <td>-20000.0</td>\n",
              "      <td>5000.0</td>\n",
              "    </tr>\n",
              "    <tr>\n",
              "      <th>74982</th>\n",
              "      <td>71</td>\n",
              "      <td>1</td>\n",
              "      <td>2019-10-31</td>\n",
              "      <td>2019-11-30</td>\n",
              "      <td>5000.0</td>\n",
              "      <td>-10000.0</td>\n",
              "      <td>-20000.0</td>\n",
              "      <td>10000.0</td>\n",
              "    </tr>\n",
              "    <tr>\n",
              "      <th>311460</th>\n",
              "      <td>71</td>\n",
              "      <td>1</td>\n",
              "      <td>2019-11-30</td>\n",
              "      <td>2019-12-31</td>\n",
              "      <td>15000.0</td>\n",
              "      <td>5000.0</td>\n",
              "      <td>-20000.0</td>\n",
              "      <td>25000.0</td>\n",
              "    </tr>\n",
              "  </tbody>\n",
              "</table>\n",
              "</div>"
            ],
            "text/plain": [
              "        party_rk  account_rk  prev_month  ...    cumsum      min  cumsum_shift\n",
              "503392        71           1  2018-12-31  ...  -20000.0 -20000.0           0.0\n",
              "11469         71           1  2019-01-31  ...  245000.0 -20000.0      265000.0\n",
              "499698        71           1  2019-02-28  ...   85000.0 -20000.0      105000.0\n",
              "147932        71           1  2019-03-31  ...   15000.0 -20000.0       35000.0\n",
              "297568        71           1  2019-04-30  ...  -10000.0 -20000.0       10000.0\n",
              "75264         71           1  2019-05-31  ...  -15000.0 -20000.0        5000.0\n",
              "310823        71           1  2019-06-30  ...  -15000.0 -20000.0        5000.0\n",
              "273860        71           1  2019-07-31  ...   -5000.0 -20000.0       15000.0\n",
              "394514        71           1  2019-08-31  ...  -15000.0 -20000.0        5000.0\n",
              "457305        71           1  2019-09-30  ...  -15000.0 -20000.0        5000.0\n",
              "74982         71           1  2019-10-31  ...  -10000.0 -20000.0       10000.0\n",
              "311460        71           1  2019-11-30  ...    5000.0 -20000.0       25000.0\n",
              "\n",
              "[12 rows x 8 columns]"
            ]
          },
          "metadata": {
            "tags": []
          },
          "execution_count": 16
        }
      ]
    },
    {
      "cell_type": "markdown",
      "metadata": {
        "id": "ryTfYB3524TP",
        "colab_type": "text"
      },
      "source": [
        "To find the guaranteed remaining sum of money we find minimum of balance lower bound. However, other metrics can be used, e.g. percentil."
      ]
    },
    {
      "cell_type": "code",
      "metadata": {
        "id": "UwNlKmLnndgc",
        "colab_type": "code",
        "colab": {}
      },
      "source": [
        "#find guaranteed remaining sum \n",
        "min_remain = data_long_hist.groupby('account_rk').cumsum_shift.min()"
      ],
      "execution_count": 17,
      "outputs": []
    },
    {
      "cell_type": "markdown",
      "metadata": {
        "id": "qmIuoXFN3ztX",
        "colab_type": "text"
      },
      "source": [
        "We can now analyse the distribution of guaranteed remaining sums."
      ]
    },
    {
      "cell_type": "code",
      "metadata": {
        "id": "ENEg3i5SndKU",
        "colab_type": "code",
        "colab": {}
      },
      "source": [
        "import matplotlib.pyplot as plt"
      ],
      "execution_count": 18,
      "outputs": []
    },
    {
      "cell_type": "code",
      "metadata": {
        "id": "PAIKBgShncZE",
        "colab_type": "code",
        "colab": {
          "base_uri": "https://localhost:8080/",
          "height": 295
        },
        "outputId": "a6cbf0fd-bb06-43ed-8348-1ee0f73aa584"
      },
      "source": [
        "plt.hist(min_remain[(min_remain <= 40000) & (min_remain > 0)], bins=100)\n",
        "plt.xlabel('lower bound on account balance')\n",
        "plt.ylabel('number of accounts') \n",
        "plt.title('Distribution of minimal account balance')\n",
        "plt.savefig(f\"{DATADIR}/balance.png\")"
      ],
      "execution_count": 20,
      "outputs": [
        {
          "output_type": "display_data",
          "data": {
            "image/png": "[encoded data removed]",
            "text/plain": [
              "<Figure size 432x288 with 1 Axes>"
            ]
          },
          "metadata": {
            "tags": [],
            "needs_background": "light"
          }
        }
      ]
    },
    {
      "cell_type": "code",
      "metadata": {
        "id": "Xrzdf3Rhm3YS",
        "colab_type": "code",
        "colab": {
          "base_uri": "https://localhost:8080/",
          "height": 295
        },
        "outputId": "e707e3df-af23-49f1-fb3a-7ec9f51b9f6a"
      },
      "source": [
        "plt.hist(min_remain[(min_remain > 40000)], bins=100)\n",
        "plt.xlabel('lower bound on account balance')\n",
        "plt.ylabel('number of accounts') \n",
        "plt.title('Distribution of minimal account balance')\n",
        "plt.savefig(f\"{DATADIR}/balance_tail.png\") "
      ],
      "execution_count": 21,
      "outputs": [
        {
          "output_type": "display_data",
          "data": {
            "image/png": "[encoded data removed]",
            "text/plain": [
              "<Figure size 432x288 with 1 Axes>"
            ]
          },
          "metadata": {
            "tags": [],
            "needs_background": "light"
          }
        }
      ]
    },
    {
      "cell_type": "code",
      "metadata": {
        "id": "gGPK9gNum2-K",
        "colab_type": "code",
        "colab": {}
      },
      "source": [
        ""
      ],
      "execution_count": null,
      "outputs": []
    },
    {
      "cell_type": "code",
      "metadata": {
        "id": "rO5I0D9um2YK",
        "colab_type": "code",
        "colab": {}
      },
      "source": [
        ""
      ],
      "execution_count": null,
      "outputs": []
    }
  ]
}