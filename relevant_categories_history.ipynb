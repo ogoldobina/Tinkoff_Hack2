{
  "nbformat": 4,
  "nbformat_minor": 0,
  "metadata": {
    "colab": {
      "name": "Untitled2.ipynb",
      "provenance": [],
      "collapsed_sections": []
    },
    "kernelspec": {
      "name": "python3",
      "display_name": "Python 3"
    }
  },
  "cells": [
    {
      "cell_type": "code",
      "metadata": {
        "colab_type": "code",
        "id": "NuFnchSfGdd8",
        "colab": {
          "base_uri": "https://localhost:8080/",
          "height": 34
        },
        "outputId": "de7387be-46c8-49c0-c483-5802efe16db3"
      },
      "source": [
        "from google.colab import drive\n",
        "drive.mount('/content/drive')"
      ],
      "execution_count": 4,
      "outputs": [
        {
          "output_type": "stream",
          "text": [
            "Mounted at /content/drive\n"
          ],
          "name": "stdout"
        }
      ]
    },
    {
      "cell_type": "code",
      "metadata": {
        "colab_type": "code",
        "id": "o08k0IFOCfM3",
        "colab": {}
      },
      "source": [
        "import numpy as np\n",
        "import pandas as pd\n",
        "from tqdm import tqdm"
      ],
      "execution_count": 1,
      "outputs": []
    },
    {
      "cell_type": "code",
      "metadata": {
        "colab_type": "code",
        "id": "NxRbuZnfCfM8",
        "scrolled": false,
        "colab": {}
      },
      "source": [
        "DATADIR = \"/content/drive/My Drive/data\" # \"./data\"\n",
        "transactions_path = f\"{DATADIR}/avk_hackathon_data_transactions.csv\""
      ],
      "execution_count": 2,
      "outputs": []
    },
    {
      "cell_type": "code",
      "metadata": {
        "id": "cRtcTgWoQriA",
        "colab_type": "code",
        "colab": {}
      },
      "source": [
        "data = pd.read_csv(f\"{DATADIR}/avk_hackathon_data_transactions.csv\")"
      ],
      "execution_count": 5,
      "outputs": []
    },
    {
      "cell_type": "code",
      "metadata": {
        "id": "mLlSOk_FZQXE",
        "colab_type": "code",
        "colab": {
          "base_uri": "https://localhost:8080/",
          "height": 224
        },
        "outputId": "8ee2157c-7e3e-4bb4-9691-ff95be7501fa"
      },
      "source": [
        "data.head()"
      ],
      "execution_count": 6,
      "outputs": [
        {
          "output_type": "execute_result",
          "data": {
            "text/html": [
              "<div>\n",
              "<style scoped>\n",
              "    .dataframe tbody tr th:only-of-type {\n",
              "        vertical-align: middle;\n",
              "    }\n",
              "\n",
              "    .dataframe tbody tr th {\n",
              "        vertical-align: top;\n",
              "    }\n",
              "\n",
              "    .dataframe thead th {\n",
              "        text-align: right;\n",
              "    }\n",
              "</style>\n",
              "<table border=\"1\" class=\"dataframe\">\n",
              "  <thead>\n",
              "    <tr style=\"text-align: right;\">\n",
              "      <th></th>\n",
              "      <th>party_rk</th>\n",
              "      <th>account_rk</th>\n",
              "      <th>financial_account_type_cd</th>\n",
              "      <th>transaction_dttm</th>\n",
              "      <th>transaction_type_desc</th>\n",
              "      <th>transaction_amt_rur</th>\n",
              "      <th>merchant_rk</th>\n",
              "      <th>merchant_type</th>\n",
              "      <th>merchant_group_rk</th>\n",
              "      <th>category</th>\n",
              "    </tr>\n",
              "  </thead>\n",
              "  <tbody>\n",
              "    <tr>\n",
              "      <th>0</th>\n",
              "      <td>20337</td>\n",
              "      <td>19666</td>\n",
              "      <td>1</td>\n",
              "      <td>2019-01-01</td>\n",
              "      <td>Покупка</td>\n",
              "      <td>84.00</td>\n",
              "      <td>88676.0</td>\n",
              "      <td>348.0</td>\n",
              "      <td>NaN</td>\n",
              "      <td>Сувениры</td>\n",
              "    </tr>\n",
              "    <tr>\n",
              "      <th>1</th>\n",
              "      <td>63404</td>\n",
              "      <td>72991</td>\n",
              "      <td>1</td>\n",
              "      <td>2019-01-01</td>\n",
              "      <td>Покупка</td>\n",
              "      <td>410.00</td>\n",
              "      <td>887248.0</td>\n",
              "      <td>330.0</td>\n",
              "      <td>725.0</td>\n",
              "      <td>Фаст Фуд</td>\n",
              "    </tr>\n",
              "    <tr>\n",
              "      <th>2</th>\n",
              "      <td>24789</td>\n",
              "      <td>23517</td>\n",
              "      <td>2</td>\n",
              "      <td>2019-01-01</td>\n",
              "      <td>Покупка</td>\n",
              "      <td>701.44</td>\n",
              "      <td>830014.0</td>\n",
              "      <td>291.0</td>\n",
              "      <td>NaN</td>\n",
              "      <td>Супермаркеты</td>\n",
              "    </tr>\n",
              "    <tr>\n",
              "      <th>3</th>\n",
              "      <td>57970</td>\n",
              "      <td>64838</td>\n",
              "      <td>2</td>\n",
              "      <td>2019-01-01</td>\n",
              "      <td>Покупка</td>\n",
              "      <td>6203.70</td>\n",
              "      <td>363834.0</td>\n",
              "      <td>278.0</td>\n",
              "      <td>454.0</td>\n",
              "      <td>Дом/Ремонт</td>\n",
              "    </tr>\n",
              "    <tr>\n",
              "      <th>4</th>\n",
              "      <td>12232</td>\n",
              "      <td>11591</td>\n",
              "      <td>2</td>\n",
              "      <td>2019-01-01</td>\n",
              "      <td>Покупка</td>\n",
              "      <td>734.53</td>\n",
              "      <td>85919.0</td>\n",
              "      <td>286.0</td>\n",
              "      <td>878.0</td>\n",
              "      <td>Супермаркеты</td>\n",
              "    </tr>\n",
              "  </tbody>\n",
              "</table>\n",
              "</div>"
            ],
            "text/plain": [
              "   party_rk  account_rk  ...  merchant_group_rk      category\n",
              "0     20337       19666  ...                NaN      Сувениры\n",
              "1     63404       72991  ...              725.0      Фаст Фуд\n",
              "2     24789       23517  ...                NaN  Супермаркеты\n",
              "3     57970       64838  ...              454.0    Дом/Ремонт\n",
              "4     12232       11591  ...              878.0  Супермаркеты\n",
              "\n",
              "[5 rows x 10 columns]"
            ]
          },
          "metadata": {
            "tags": []
          },
          "execution_count": 6
        }
      ]
    },
    {
      "cell_type": "markdown",
      "metadata": {
        "id": "bJi22g7hzQLD",
        "colab_type": "text"
      },
      "source": [
        "To find most popular categories for a client:\n",
        "1. rank categories within a month\n",
        "2. apply weughting scheema to months to make more recent dates more relevant\n",
        "3. multiply category ranks by weights\n",
        "4. summarize category ranks in all months\n",
        "5. sort categories by sum of weighted ranks"
      ]
    },
    {
      "cell_type": "code",
      "metadata": {
        "id": "-RYAOmTVZP66",
        "colab_type": "code",
        "colab": {}
      },
      "source": [
        "#convert dates to the begining of the month\n",
        "data['month_dt']=pd.to_datetime((pd.DatetimeIndex(data['transaction_dttm']).year*10000+pd.DatetimeIndex(data['transaction_dttm']).month*100+1),format='%Y%m%d')"
      ],
      "execution_count": 7,
      "outputs": []
    },
    {
      "cell_type": "code",
      "metadata": {
        "id": "MK66c9BJZPsu",
        "colab_type": "code",
        "colab": {}
      },
      "source": [
        "#summarize transactions by month\n",
        "expenses = pd.DataFrame(data.groupby(['party_rk', 'month_dt', 'category'], as_index=False).transaction_amt_rur.sum())"
      ],
      "execution_count": 9,
      "outputs": []
    },
    {
      "cell_type": "code",
      "metadata": {
        "id": "blFJ-Q9vf05F",
        "colab_type": "code",
        "colab": {}
      },
      "source": [
        "#sorting transactions within month\n",
        "expenses = expenses.sort_values(['party_rk','month_dt','transaction_amt_rur'])"
      ],
      "execution_count": 11,
      "outputs": []
    },
    {
      "cell_type": "code",
      "metadata": {
        "id": "DRrNcmT7f0sz",
        "colab_type": "code",
        "colab": {}
      },
      "source": [
        "#rank categories within month\n",
        "expenses['cat_rank'] = expenses.groupby(['party_rk','month_dt']).cumcount()+1"
      ],
      "execution_count": 12,
      "outputs": []
    },
    {
      "cell_type": "code",
      "metadata": {
        "id": "YhWz9m4oka0W",
        "colab_type": "code",
        "colab": {}
      },
      "source": [
        "#sorting dates for each category\n",
        "expenses = expenses.sort_values(['party_rk', 'category', 'month_dt'])"
      ],
      "execution_count": 13,
      "outputs": []
    },
    {
      "cell_type": "code",
      "metadata": {
        "id": "MjlLWQSjkajw",
        "colab_type": "code",
        "colab": {}
      },
      "source": [
        "#rank dates within category\n",
        "expenses['month_rank'] = expenses.groupby(['party_rk','category']).cumcount()+1"
      ],
      "execution_count": 14,
      "outputs": []
    },
    {
      "cell_type": "code",
      "metadata": {
        "id": "lZfsMYRnkaUv",
        "colab_type": "code",
        "colab": {}
      },
      "source": [
        "#assign weights to dates\n",
        "alpha = 0.8\n",
        "expenses['weight'] = alpha ** expenses['month_rank']"
      ],
      "execution_count": 15,
      "outputs": []
    },
    {
      "cell_type": "code",
      "metadata": {
        "id": "IGdZxg13kaE9",
        "colab_type": "code",
        "colab": {}
      },
      "source": [
        "#calculate weighted rank\n",
        "expenses['weighted_rank'] = expenses['cat_rank'] * expenses['weight']"
      ],
      "execution_count": 16,
      "outputs": []
    },
    {
      "cell_type": "code",
      "metadata": {
        "id": "oWiSij8vkZ5Z",
        "colab_type": "code",
        "colab": {}
      },
      "source": [
        "#sort categories by weighted rank\n",
        "top_cat = expenses.groupby(['party_rk', 'category'], as_index=False).weighted_rank.sum().sort_values(['party_rk', 'weighted_rank'], ascending=False)"
      ],
      "execution_count": 17,
      "outputs": []
    },
    {
      "cell_type": "code",
      "metadata": {
        "id": "-F271ueabHdy",
        "colab_type": "code",
        "colab": {
          "base_uri": "https://localhost:8080/",
          "height": 419
        },
        "outputId": "5de0e34b-0025-414e-87fe-adcc8208c23e"
      },
      "source": [
        "#find top categories\n",
        "top_n = 3\n",
        "top_cat.groupby(['party_rk'], sort=False).head(top_n)"
      ],
      "execution_count": 18,
      "outputs": [
        {
          "output_type": "execute_result",
          "data": {
            "text/html": [
              "<div>\n",
              "<style scoped>\n",
              "    .dataframe tbody tr th:only-of-type {\n",
              "        vertical-align: middle;\n",
              "    }\n",
              "\n",
              "    .dataframe tbody tr th {\n",
              "        vertical-align: top;\n",
              "    }\n",
              "\n",
              "    .dataframe thead th {\n",
              "        text-align: right;\n",
              "    }\n",
              "</style>\n",
              "<table border=\"1\" class=\"dataframe\">\n",
              "  <thead>\n",
              "    <tr style=\"text-align: right;\">\n",
              "      <th></th>\n",
              "      <th>party_rk</th>\n",
              "      <th>category</th>\n",
              "      <th>weighted_rank</th>\n",
              "    </tr>\n",
              "  </thead>\n",
              "  <tbody>\n",
              "    <tr>\n",
              "      <th>651587</th>\n",
              "      <td>94610</td>\n",
              "      <td>Супермаркеты</td>\n",
              "      <td>7.200000</td>\n",
              "    </tr>\n",
              "    <tr>\n",
              "      <th>651584</th>\n",
              "      <td>94610</td>\n",
              "      <td>Одежда/Обувь</td>\n",
              "      <td>7.040000</td>\n",
              "    </tr>\n",
              "    <tr>\n",
              "      <th>651580</th>\n",
              "      <td>94610</td>\n",
              "      <td>Аптеки</td>\n",
              "      <td>3.200000</td>\n",
              "    </tr>\n",
              "    <tr>\n",
              "      <th>651573</th>\n",
              "      <td>94608</td>\n",
              "      <td>Аптеки</td>\n",
              "      <td>4.800000</td>\n",
              "    </tr>\n",
              "    <tr>\n",
              "      <th>651579</th>\n",
              "      <td>94608</td>\n",
              "      <td>Финансовые услуги</td>\n",
              "      <td>4.000000</td>\n",
              "    </tr>\n",
              "    <tr>\n",
              "      <th>...</th>\n",
              "      <td>...</td>\n",
              "      <td>...</td>\n",
              "      <td>...</td>\n",
              "    </tr>\n",
              "    <tr>\n",
              "      <th>21</th>\n",
              "      <td>5</td>\n",
              "      <td>Супермаркеты</td>\n",
              "      <td>20.647117</td>\n",
              "    </tr>\n",
              "    <tr>\n",
              "      <th>8</th>\n",
              "      <td>5</td>\n",
              "      <td>Авиабилеты</td>\n",
              "      <td>18.232115</td>\n",
              "    </tr>\n",
              "    <tr>\n",
              "      <th>5</th>\n",
              "      <td>1</td>\n",
              "      <td>Топливо</td>\n",
              "      <td>6.720000</td>\n",
              "    </tr>\n",
              "    <tr>\n",
              "      <th>2</th>\n",
              "      <td>1</td>\n",
              "      <td>Одежда/Обувь</td>\n",
              "      <td>4.800000</td>\n",
              "    </tr>\n",
              "    <tr>\n",
              "      <th>3</th>\n",
              "      <td>1</td>\n",
              "      <td>Связь/Телеком</td>\n",
              "      <td>3.680000</td>\n",
              "    </tr>\n",
              "  </tbody>\n",
              "</table>\n",
              "<p>148280 rows × 3 columns</p>\n",
              "</div>"
            ],
            "text/plain": [
              "        party_rk           category  weighted_rank\n",
              "651587     94610       Супермаркеты       7.200000\n",
              "651584     94610       Одежда/Обувь       7.040000\n",
              "651580     94610             Аптеки       3.200000\n",
              "651573     94608             Аптеки       4.800000\n",
              "651579     94608  Финансовые услуги       4.000000\n",
              "...          ...                ...            ...\n",
              "21             5       Супермаркеты      20.647117\n",
              "8              5         Авиабилеты      18.232115\n",
              "5              1            Топливо       6.720000\n",
              "2              1       Одежда/Обувь       4.800000\n",
              "3              1      Связь/Телеком       3.680000\n",
              "\n",
              "[148280 rows x 3 columns]"
            ]
          },
          "metadata": {
            "tags": []
          },
          "execution_count": 18
        }
      ]
    },
    {
      "cell_type": "code",
      "metadata": {
        "id": "JghH7t1hr_Ez",
        "colab_type": "code",
        "colab": {}
      },
      "source": [
        ""
      ],
      "execution_count": null,
      "outputs": []
    }
  ]
}